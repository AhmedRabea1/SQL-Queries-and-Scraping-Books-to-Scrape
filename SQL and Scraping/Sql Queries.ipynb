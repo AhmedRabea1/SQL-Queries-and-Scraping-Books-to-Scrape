{
  "nbformat": 4,
  "nbformat_minor": 0,
  "metadata": {
    "colab": {
      "name": "SQL .ipynb",
      "provenance": [],
      "collapsed_sections": []
    },
    "kernelspec": {
      "name": "python3",
      "display_name": "Python 3"
    },
    "language_info": {
      "name": "python"
    }
  },
  "cells": [
    {
      "cell_type": "code",
      "metadata": {
        "id": "mA-WZtzMS_al"
      },
      "source": [
        "import sqlite3\n",
        "\n",
        "conn = sqlite3.connect('books.db')\n",
        "cur = conn.cursor()"
      ],
      "execution_count": null,
      "outputs": []
    },
    {
      "cell_type": "code",
      "metadata": {
        "id": "8QKawejlTD49"
      },
      "source": [
        "def get_rows(sql, data):\n",
        "    global conn\n",
        "    global cur\n",
        "    cur.execute(sql, data)\n",
        "    rows = cur.fetchall()\n",
        "    for ID, title, price, rate, cat_id in rows:\n",
        "        print(f\"[{ID}] ----- {title} ----- {price} £----- {rate} ----- Cat_id: {cat_id}\")"
      ],
      "execution_count": null,
      "outputs": []
    },
    {
      "cell_type": "markdown",
      "metadata": {
        "id": "TSuChxW0WYmX"
      },
      "source": [
        "**1. Books Begin with Mr or Mrs and its rate above 3**"
      ]
    },
    {
      "cell_type": "code",
      "metadata": {
        "id": "jimfuOt2TGtr"
      },
      "source": [
        "get_rows(\"SELECT * FROM books WHERE rate >= ? AND title LIKE ?\", [3, '%Mr%'])"
      ],
      "execution_count": null,
      "outputs": []
    },
    {
      "cell_type": "markdown",
      "metadata": {
        "id": "ODK4cczvZDAb"
      },
      "source": [
        "**2.Sql query to get books that has rate >=3 or price > 20**"
      ]
    },
    {
      "cell_type": "code",
      "metadata": {
        "id": "raDWSvGITJHj"
      },
      "source": [
        "get_rows(\"SELECT * FROM books WHERE rate >= ? OR price > ?\", [3,20])"
      ],
      "execution_count": null,
      "outputs": []
    },
    {
      "cell_type": "markdown",
      "metadata": {
        "id": "ghplO0LfZZKs"
      },
      "source": [
        "**3.sql query to get books that has rate not 3**"
      ]
    },
    {
      "cell_type": "code",
      "metadata": {
        "id": "l4k2EkYJXUzM"
      },
      "source": [
        "get_rows(\"SELECT * FROM books WHERE rate != ?\", [3])"
      ],
      "execution_count": null,
      "outputs": []
    },
    {
      "cell_type": "markdown",
      "metadata": {
        "id": "npaJKw3XZlhp"
      },
      "source": [
        "**4.sql query to get books that has price between 10 and 40 and has rate 3 or 4 or 1.**"
      ]
    },
    {
      "cell_type": "code",
      "metadata": {
        "id": "CIldHSFlYJqb"
      },
      "source": [
        "get_rows(\"SELECT * FROM books WHERE rate IN (?,?,?) AND price BETWEEN ? AND ?\",[3, 4, 1, 10, 40])"
      ],
      "execution_count": null,
      "outputs": []
    },
    {
      "cell_type": "markdown",
      "metadata": {
        "id": "hSKCeCZIZrWi"
      },
      "source": [
        "**5.sql query to get the top 5 most expensive books (order books desc with price column and then limit the result to the first 5).**"
      ]
    },
    {
      "cell_type": "code",
      "metadata": {
        "id": "dRha7fZpYe6B"
      },
      "source": [
        "get_rows(\"SELECT * FROM books ORDER BY price DESC LIMIT 5\", [])"
      ],
      "execution_count": null,
      "outputs": []
    },
    {
      "cell_type": "markdown",
      "metadata": {
        "id": "DVMRjzd8ZwOI"
      },
      "source": [
        "**6.sql query to get the 3rd 10 books in the books table order first by rate desc and then by price asc.**"
      ]
    },
    {
      "cell_type": "code",
      "metadata": {
        "id": "nIfGVNpjYvbM"
      },
      "source": [
        "get_rows(\"SELECT * FROM books ORDER BY rate DESC, price ASC LIMIT 10 OFFSET 3\", [])"
      ],
      "execution_count": null,
      "outputs": []
    },
    {
      "cell_type": "markdown",
      "metadata": {
        "id": "ELr0XrTAZzlq"
      },
      "source": [
        "**7.sql query to add a new category in categories table and add 5 books to this category in books table with title, rate and price.**"
      ]
    },
    {
      "cell_type": "code",
      "metadata": {
        "id": "J2C05rvrZEWx"
      },
      "source": [
        "cur.execute(\"INSERT INTO categories (name) VALUES (?)\", ['Programming'])\n",
        "conn.commit()\n",
        "book_id = cur.lastrowid\n",
        "for i in range(5):\n",
        "    cur.execute(\"INSERT INTO books (title,price,rate,category_id) VALUES (?,?,?,?)\", [f'Book-{i}', i + 20, i+1, book_id])\n",
        "    conn.commit()"
      ],
      "execution_count": null,
      "outputs": []
    },
    {
      "cell_type": "markdown",
      "metadata": {
        "id": "0BTepxhNZ4Bh"
      },
      "source": [
        "**8.sql query to update book's rate to 3 that thier price < 20£.**"
      ]
    },
    {
      "cell_type": "code",
      "metadata": {
        "id": "GYTgTVQQZNJc"
      },
      "source": [
        "cur.execute(\"UPDATE books SET rate=? WHERE Price < ?\", [3, 20])\n",
        "conn.commit()"
      ],
      "execution_count": null,
      "outputs": []
    },
    {
      "cell_type": "markdown",
      "metadata": {
        "id": "CA3VxHsxZ7GT"
      },
      "source": [
        "**9.sql query to delete all books that have price > 50£ and has rate <= 2**"
      ]
    },
    {
      "cell_type": "code",
      "metadata": {
        "id": "KsJIdIWGZUwv"
      },
      "source": [
        "cur.execute(\"DELETE FROM books WHERE price > ? AND rate <= ?\", [50, 2])\n",
        "conn.commit()"
      ],
      "execution_count": null,
      "outputs": []
    },
    {
      "cell_type": "markdown",
      "metadata": {
        "id": "OpLbb_rjZ-_m"
      },
      "source": [
        "**10.sql query to count the number of books that have 'Secret' in thier names and price between 10£ and 25£.**"
      ]
    },
    {
      "cell_type": "code",
      "metadata": {
        "id": "6hKApijjZrj-"
      },
      "source": [
        "cur.execute(\"SELECT COUNT(id) FROM books WHERE title LIKE ? AND price BETWEEN ? AND ?\", ['%Secret%', 10, 25])\n",
        "rows = cur.fetchall()\n",
        "print(rows[0][0])"
      ],
      "execution_count": null,
      "outputs": []
    },
    {
      "cell_type": "markdown",
      "metadata": {
        "id": "r6LnLjrjaHWU"
      },
      "source": [
        "**11.sql query to get the minimum & maximum price for all the books that have rate 5.**"
      ]
    },
    {
      "cell_type": "code",
      "metadata": {
        "id": "EuL3yKk9Z4a0"
      },
      "source": [
        "cur.execute(\"SELECT MAX(price) FROM books WHERE rate = ?\", [5])\n",
        "rows = cur.fetchall()\n",
        "print(rows[0][0])"
      ],
      "execution_count": null,
      "outputs": []
    },
    {
      "cell_type": "markdown",
      "metadata": {
        "id": "fscZkHoeaMsG"
      },
      "source": [
        "**12.sql query to calculate the avg price for all the books that have rate 5.**"
      ]
    },
    {
      "cell_type": "code",
      "metadata": {
        "id": "JWVAH4QJZ9Oe"
      },
      "source": [
        "cur.execute(\"SELECT AVG(price) FROM books WHERE rate = ?\", [5])\n",
        "rows = cur.fetchall()\n",
        "print(rows[0][0])"
      ],
      "execution_count": null,
      "outputs": []
    },
    {
      "cell_type": "markdown",
      "metadata": {
        "id": "sso5mjEBaXOM"
      },
      "source": [
        "**13.sql query to sum all book's price that have rate 2 and price between 10 and 40**"
      ]
    },
    {
      "cell_type": "code",
      "metadata": {
        "id": "92wOKW8XaAKg"
      },
      "source": [
        "cur.execute(\"SELECT SUM(price) FROM books WHERE rate = ? AND price BETWEEN ? AND ?\", [2, 10, 40])\n",
        "rows = cur.fetchall()\n",
        "print(rows[0][0])"
      ],
      "execution_count": null,
      "outputs": []
    },
    {
      "cell_type": "markdown",
      "metadata": {
        "id": "3sJPZ8UOaarC"
      },
      "source": [
        "**14.sql query to join both books & categories table into one new table containing book_name & category_name & book_rate and book_price.**"
      ]
    },
    {
      "cell_type": "code",
      "metadata": {
        "id": "mmXrRMMDaCM_"
      },
      "source": [
        "cur.execute(\"SELECT books.title,books.rate,categories.name FROM books INNER JOIN categories WHERE books.category_id = categories.id\", [])\n",
        "rows = cur.fetchall()\n",
        "print(rows)"
      ],
      "execution_count": null,
      "outputs": []
    },
    {
      "cell_type": "markdown",
      "metadata": {
        "id": "J2jPvI59aeYk"
      },
      "source": [
        "**15.sql query to calculate how many books each rate has and have price between 20£ and 30£.**"
      ]
    },
    {
      "cell_type": "code",
      "metadata": {
        "id": "RW9SbceoaEXV"
      },
      "source": [
        "cur.execute(\"SELECT COUNT(id), rate FROM books WHERE price BETWEEN ? AND ? GROUP BY rate\", [20, 30])\n",
        "rows = cur.fetchall()\n",
        "print(rows)"
      ],
      "execution_count": null,
      "outputs": []
    },
    {
      "cell_type": "markdown",
      "metadata": {
        "id": "P2cs1un7alTz"
      },
      "source": [
        "**16.sql query to calculate how many books each category has having count > 10.**"
      ]
    },
    {
      "cell_type": "code",
      "metadata": {
        "id": "RPAUIgQcaGWk"
      },
      "source": [
        "cur.execute(\"SELECT COUNT(id) AS CNT, category_id FROM books GROUP BY category_id HAVING CNT > ?\", [10])\n",
        "rows = cur.fetchall()\n",
        "print(rows)"
      ],
      "execution_count": null,
      "outputs": []
    },
    {
      "cell_type": "markdown",
      "metadata": {
        "id": "rmEnfjHuapQr"
      },
      "source": [
        "17.sql query to get all books with category_name='Music' using subquery."
      ]
    },
    {
      "cell_type": "code",
      "metadata": {
        "id": "lVYHkIaFaICa"
      },
      "source": [
        "cur.execute(\"SELECT * FROM categories WHERE name = ?\", ['Music'])\n",
        "rows = cur.fetchall()\n",
        "print(rows)"
      ],
      "execution_count": null,
      "outputs": []
    },
    {
      "cell_type": "code",
      "metadata": {
        "id": "TNPZaB0oaTi_"
      },
      "source": [
        ""
      ],
      "execution_count": null,
      "outputs": []
    }
  ]
}